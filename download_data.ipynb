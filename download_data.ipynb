{
 "cells": [
  {
   "cell_type": "code",
   "execution_count": null,
   "metadata": {},
   "outputs": [],
   "source": [
    "import requests\n",
    "from datetime import datetime\n",
    "import os"
   ]
  },
  {
   "cell_type": "code",
   "execution_count": 19,
   "metadata": {},
   "outputs": [],
   "source": [
    "def formatCurrentYear():\n",
    "    \"\"\"\n",
    "    Formats the current year as a string.\n",
    "\n",
    "    Returns:\n",
    "        str: The current year.\n",
    "    \"\"\"\n",
    "    return str(datetime.now().year)"
   ]
  },
  {
   "cell_type": "code",
   "execution_count": 20,
   "metadata": {},
   "outputs": [],
   "source": [
    "def validateSemester(semester):\n",
    "    \"\"\"\n",
    "    Validates the semester input.\n",
    "\n",
    "    Args:\n",
    "        semester (str): The semester to validate ('first-semester' or 'second-semester').\n",
    "\n",
    "    Raises:\n",
    "        ValueError: If the semester is not valid.\n",
    "    \"\"\"\n",
    "    if semester not in ['primeiro-semestre', 'segundo-semestre']:\n",
    "        raise ValueError(\"O semestre deve ser 'primeiro-semestre' or 'segundo-semestre'.\")"
   ]
  },
  {
   "cell_type": "code",
   "execution_count": 21,
   "metadata": {},
   "outputs": [],
   "source": [
    "def createDirectory(directory):\n",
    "    \"\"\"\n",
    "    Creates a directory if it does not exist.\n",
    "\n",
    "    Args:\n",
    "        directory (str): The name of the directory to create.\n",
    "\n",
    "    Returns:\n",
    "        bool: True if the directory was created, False if it already existed.\n",
    "    \"\"\"\n",
    "    if not os.path.exists(directory):\n",
    "        os.makedirs(directory)\n",
    "        print(f\"O diretório '{directory}' foi criado com sucesso.\")\n",
    "        return True\n",
    "    else:\n",
    "        print(f\"O diretório '{directory}' Já existe. Prosseguindo com o download.\")\n",
    "        return False"
   ]
  },
  {
   "cell_type": "code",
   "execution_count": 22,
   "metadata": {},
   "outputs": [],
   "source": [
    "def downloadCsvFile(semester, year, directory):\n",
    "    \"\"\"\n",
    "    Downloads the CSV file from the specified endpoint.\n",
    "\n",
    "    Args:\n",
    "        semester (str): The semester for which to download the file.\n",
    "        year (str): The year of the file.\n",
    "        directory (str): The directory to save the downloaded file.\n",
    "\n",
    "    Returns:\n",
    "        str: The path to the saved file if successful, None otherwise.\n",
    "    \"\"\"\n",
    "    link = f'{semester}-{year}'\n",
    "    endpoint = f\"https://www.gov.br/mdh/pt-br/acesso-a-informacao/dados-abertos/ligue180/{link}\"\n",
    "    file_name = f'{directory}/ligue180-{semester}-{year}.csv'\n",
    "    try:\n",
    "        print(f\"Conectando ao endpoint para fazer o download do arquivo...\")\n",
    "        response = requests.get(endpoint)\n",
    "        if response.status_code == 200:\n",
    "            print(f\"Baixando do arquivo: {file_name}...\")\n",
    "            with open(file_name, 'wb') as file:\n",
    "                file.write(response.content)\n",
    "            print(f\"O arquivo CSV {semester.replace('-', ' ')} foi baixado e salvo como '{file_name}' com sucesso!\")\n",
    "            return file_name\n",
    "        else:\n",
    "            print(f\"Erro ao acessar o endpoint para {semester.replace('-', ' ')}: {response.status_code}. Check o URL.\")\n",
    "            return None\n",
    "    except requests.exceptions.RequestException as e:\n",
    "        print(f\"Um erro ocorreu durante o request {semester.replace('-', ' ')}: {e}. Por favor tente novamente mais tarde.\")\n",
    "        return None"
   ]
  },
  {
   "cell_type": "code",
   "execution_count": 23,
   "metadata": {},
   "outputs": [],
   "source": [
    "def downloadAndLoadCsv(semester='primeiro-semestre'):\n",
    "    \"\"\"\n",
    "    Main function to download and load the CSV file for the specified semester.\n",
    "\n",
    "    Args:\n",
    "        semester (str): The semester to download ('first-semester' or 'second-semester').\n",
    "    \n",
    "    Returns:\n",
    "        str: The path to the downloaded CSV file if successful, None otherwise.\n",
    "    \"\"\"\n",
    "    current_year = formatCurrentYear()\n",
    "    validateSemester(semester)\n",
    "    \n",
    "    print(f\"Iniciando download do arquivo {semester.replace('-', ' ')} do ano {current_year}...\")\n",
    "    \n",
    "    directory = 'csv_files'\n",
    "    createDirectory(directory)\n",
    "    \n",
    "    return downloadCsvFile(semester, current_year, directory)\n"
   ]
  },
  {
   "cell_type": "code",
   "execution_count": 24,
   "metadata": {},
   "outputs": [
    {
     "name": "stdout",
     "output_type": "stream",
     "text": [
      "Iniciando download do arquivo primeiro semestre do ano 2024...\n",
      "O diretório 'csv_files' Já existe. Prosseguindo com o download.\n",
      "Conectando ao endpoint para fazer o download do arquivo...\n",
      "Baixando do arquivo: csv_files/ligue180-primeiro-semestre-2024.csv...\n",
      "O arquivo CSV primeiro semestre foi baixado e salvo como 'csv_files/ligue180-primeiro-semestre-2024.csv' com sucesso!\n"
     ]
    },
    {
     "data": {
      "text/plain": [
       "'csv_files/ligue180-primeiro-semestre-2024.csv'"
      ]
     },
     "execution_count": 24,
     "metadata": {},
     "output_type": "execute_result"
    }
   ],
   "source": [
    "downloadAndLoadCsv('primeiro-semestre')  # ou 'segundo-semestre'"
   ]
  }
 ],
 "metadata": {
  "kernelspec": {
   "display_name": "Python 3",
   "language": "python",
   "name": "python3"
  },
  "language_info": {
   "codemirror_mode": {
    "name": "ipython",
    "version": 3
   },
   "file_extension": ".py",
   "mimetype": "text/x-python",
   "name": "python",
   "nbconvert_exporter": "python",
   "pygments_lexer": "ipython3",
   "version": "3.10.4"
  }
 },
 "nbformat": 4,
 "nbformat_minor": 2
}
